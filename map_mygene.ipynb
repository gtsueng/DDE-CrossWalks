{
 "cells": [
  {
   "cell_type": "markdown",
   "id": "7ffa5e11",
   "metadata": {},
   "source": [
    "## Helper functions for parsing mygene.info json doc\n",
    "\n",
    "So that it can be formatted, mapped, and exported as a crosswalk"
   ]
  },
  {
   "cell_type": "code",
   "execution_count": 3,
   "id": "ec954298",
   "metadata": {},
   "outputs": [
    {
     "name": "stdout",
     "output_type": "stream",
     "text": [
      "      property    value\n",
      "0  AnimalQTLdb     text\n",
      "1      FLYBASE  keyword\n"
     ]
    }
   ],
   "source": [
    "## Parse the metadata fields json file downloaded from mygene.info\n",
    "\n",
    "import os\n",
    "import json\n",
    "import pandas as pd\n",
    "import requests\n",
    "\n",
    "data_path = 'crosswalks/'\n",
    "r = requests.get('https://mygene.info/v3/metadata/fields')\n",
    "mygene_meta = json.loads(r.text)\n",
    "\n",
    "cleanlist = []\n",
    "for k,v in mygene_meta.items():\n",
    "    cleanlist.append({'property':k,'value':v['type']})\n",
    "\n",
    "mygene_df = pd.DataFrame(cleanlist)\n",
    "mygene_df.to_csv(os.path.join(data_path,'mygene_fields.tsv'),sep='\\t',header=True)"
   ]
  },
  {
   "cell_type": "code",
   "execution_count": 4,
   "id": "4f9b88f1",
   "metadata": {},
   "outputs": [],
   "source": [
    "## Parse an example record to get a better idea of the expected values of the fields\n",
    "\n",
    "r = requests.get('https://mygene.info/v3/gene/1017?fields=all')\n",
    "sample_data = json.loads(r.text)\n",
    "clean_data = []\n",
    "for k,v in sample_data.items():\n",
    "    clean_data.append({'property':k,'values':v})\n",
    "\n",
    "cleandf = pd.DataFrame(clean_data)\n",
    "cleandf.to_csv(os.path.join(data_path,'mygene_example.tsv'),sep='\\t',header=True)"
   ]
  },
  {
   "cell_type": "code",
   "execution_count": null,
   "id": "0a465865",
   "metadata": {},
   "outputs": [],
   "source": []
  }
 ],
 "metadata": {
  "kernelspec": {
   "display_name": "Python 3 (ipykernel)",
   "language": "python",
   "name": "python3"
  },
  "language_info": {
   "codemirror_mode": {
    "name": "ipython",
    "version": 3
   },
   "file_extension": ".py",
   "mimetype": "text/x-python",
   "name": "python",
   "nbconvert_exporter": "python",
   "pygments_lexer": "ipython3",
   "version": "3.8.5"
  }
 },
 "nbformat": 4,
 "nbformat_minor": 5
}

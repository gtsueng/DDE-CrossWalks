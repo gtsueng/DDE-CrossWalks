{
 "cells": [
  {
   "cell_type": "markdown",
   "id": "4a268e7c",
   "metadata": {},
   "source": [
    "## Sample scripts for using crosswalk json files"
   ]
  },
  {
   "cell_type": "code",
   "execution_count": 1,
   "id": "f697a7aa",
   "metadata": {},
   "outputs": [],
   "source": [
    "import pandas as pd\n",
    "from pandas import read_excel\n",
    "import json\n",
    "import os\n",
    "from datetime import datetime"
   ]
  },
  {
   "cell_type": "code",
   "execution_count": 15,
   "id": "65d1a663",
   "metadata": {},
   "outputs": [],
   "source": [
    "## Invert directionality of mapping\n",
    "def invert_mappings(property_list):\n",
    "    inverted_prop_list = []\n",
    "    for i in range(len(property_list)):\n",
    "        eachprop = property_list.iloc[i]\n",
    "        newprop = eachprop.pop('sameAs')\n",
    "        newprop['sameAs'] = eachprop\n",
    "        inverted_prop_list.append(newprop)\n",
    "    return inverted_prop_list\n",
    "\n",
    "## Create mappings\n",
    "def create_nestednames_map(property_list):\n",
    "    for i in range(len(property_list)):\n",
    "        eachprop = property_list.iloc[i]\n",
    "        nestednames_map[eachprop['nestedName']] = eachprop['sameAs']['nestedName']\n",
    "    return nestednames_map\n",
    "\n",
    "## Convert a property based on schema\n",
    "def convert_prop_name(property_list,a_property):\n",
    "    nestednames_map = create_nestednames_map(property_list)\n",
    "    converted_prop_name = nestednames_map[a_property]\n",
    "    return converted_prop_name\n",
    "\n",
    "def get_converted_prop_info(property_list,converted_prop_name):\n",
    "    inverted_prop_list = invert_mappings(property_list)\n",
    "    prop_info = [x for x in inverted_prop_list if x['nestedName']==converted_prop_name]\n",
    "    return prop_info"
   ]
  },
  {
   "cell_type": "code",
   "execution_count": null,
   "id": "5dc5091a",
   "metadata": {},
   "outputs": [],
   "source": []
  },
  {
   "cell_type": "code",
   "execution_count": 3,
   "id": "b8baa407",
   "metadata": {},
   "outputs": [],
   "source": [
    "script_path = ''\n",
    "\n",
    "data_path = os.path.join(script_path,'jsoncrosswalks')\n",
    "data_files = os.listdir(data_path)\n",
    "#data_file = os.path.join(data_path,'nde_clinepidb_dataset.json')\n",
    "#schema_path = os.path.join(script_path,'schema')\n",
    "#schema_file = os.path.join(schema_path,'MetadataCrossWalk.json')"
   ]
  },
  {
   "cell_type": "code",
   "execution_count": 22,
   "id": "3eed72d6",
   "metadata": {},
   "outputs": [
    {
     "name": "stdout",
     "output_type": "stream",
     "text": [
      "446\n"
     ]
    }
   ],
   "source": [
    "## read the files\n",
    "\n",
    "property_list = pd.DataFrame(columns=['nestedName','isPartOf','name','sameAs'])\n",
    "for data_file in data_files:\n",
    "    with open(os.path.join(data_path,data_file),'r') as jsonfile:\n",
    "        crosswalkmeta = json.load(jsonfile)\n",
    "        tmpproplist = crosswalkmeta['includesProperty']\n",
    "        tmpdf = pd.DataFrame(tmpproplist)\n",
    "        property_list = pd.concat((property_list,tmpdf),ignore_index=True)\n",
    "\n",
    "property_list.fillna('unspecified',inplace=True)\n",
    "print(len(property_list))"
   ]
  },
  {
   "cell_type": "code",
   "execution_count": 24,
   "id": "dfaaa2bb",
   "metadata": {},
   "outputs": [
    {
     "name": "stdout",
     "output_type": "stream",
     "text": [
      "2\n",
      "               nestedName owl:cardinality  marginality  \\\n",
      "0  infectiousDisease.name            many  unspecified   \n",
      "\n",
      "                    domainIncludes             rangeIncludes  \\\n",
      "0  [{'@id': 'schema:DefinedTerm'}]  [{'@id': 'schema:Text'}]   \n",
      "\n",
      "                       url                     isPartOf  name  \n",
      "0  https://schema.org/name  {'@id': 'outbreak:Dataset'}  name  \n"
     ]
    }
   ],
   "source": [
    "## Get properties and equivalencies\n",
    "prop2find = \"topicCategory.name\"\n",
    "\n",
    "resultdf = property_list.loc[(property_list['nestedName']==prop2find)|(property_list['name']==prop2find)]\n",
    "print(len(resultdf))\n",
    "#print(resultdf)\n",
    "nde_subset = resultdf.loc[resultdf['isPartOf']=={'@id':'nde:Dataset'}]\n",
    "equivalences = pd.DataFrame(nde_subset['sameAs'].tolist()).fillna('unspecified')\n",
    "print(equivalences)"
   ]
  },
  {
   "cell_type": "code",
   "execution_count": null,
   "id": "c43f279d",
   "metadata": {},
   "outputs": [],
   "source": []
  },
  {
   "cell_type": "code",
   "execution_count": 19,
   "id": "21b89137",
   "metadata": {},
   "outputs": [
    {
     "name": "stdout",
     "output_type": "stream",
     "text": [
      "description \n",
      "\n"
     ]
    }
   ],
   "source": [
    "## Convert a property using the mapping\n",
    "converted_prop_name = convert_prop_name(property_list,'attributes.description')\n",
    "print(converted_prop_name,'\\n')"
   ]
  },
  {
   "cell_type": "code",
   "execution_count": 20,
   "id": "95e971af",
   "metadata": {},
   "outputs": [
    {
     "name": "stdout",
     "output_type": "stream",
     "text": [
      "[{'nestedName': 'description', 'owl:cardinality': 'one', 'marginality': 'minimal or required', 'domainIncludes': [{'@id': 'nde:ComputationalTool'}], 'rangeIncludes': 'schema:Text', 'url': 'https://schema.org/description', 'isPartOf': {'@id': 'nde:ComputationalTool'}, 'name': 'description', 'sameAs': nestedName                     Description\n",
      "isPartOf           {'@id': 'bioconductor'}\n",
      "name                           Description\n",
      "owl:cardinality                        one\n",
      "Name: 1, dtype: object}]\n"
     ]
    }
   ],
   "source": [
    "\n",
    "## Pull info on the mapped property\n",
    "converted_prop_info = get_converted_prop_info(property_list,converted_prop_name)\n",
    "print(converted_prop_info)"
   ]
  },
  {
   "cell_type": "code",
   "execution_count": null,
   "id": "42a8064b",
   "metadata": {},
   "outputs": [],
   "source": []
  }
 ],
 "metadata": {
  "kernelspec": {
   "display_name": "Python 3 (ipykernel)",
   "language": "python",
   "name": "python3"
  },
  "language_info": {
   "codemirror_mode": {
    "name": "ipython",
    "version": 3
   },
   "file_extension": ".py",
   "mimetype": "text/x-python",
   "name": "python",
   "nbconvert_exporter": "python",
   "pygments_lexer": "ipython3",
   "version": "3.8.5"
  }
 },
 "nbformat": 4,
 "nbformat_minor": 5
}

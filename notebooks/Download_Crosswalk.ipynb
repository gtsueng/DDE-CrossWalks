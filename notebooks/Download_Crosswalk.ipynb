{
 "cells": [
  {
   "cell_type": "markdown",
   "id": "f0473c5d",
   "metadata": {},
   "source": [
    "## Google spreadsheet crosswalk downloader\n",
    "\n",
    "This notebook helps maintain a list of google spreadsheet crosswalks that are downloaded as xlsx files and converted for upload in json-ld format. This makes it easier for collaboratively edited/maintained crosswalk files to be updated.\n",
    "\n",
    "To do:\n",
    "\n",
    "0. ~~Enable reading of google spreadsheets similar to xlsx file~~\n",
    "1. ~~Create list of crosswalks~~\n",
    "2. Enable checking for google spreadsheet in list of crosswalks and adding it if it's not there\n",
    "3. Download and save google spreadsheet as an xlsx file\n",
    "4. Create GitHub pull request template\n",
    "5. Create script for maintaining list (that can run in conjunction with a GitHub pull request template and GitHub action)\n"
   ]
  },
  {
   "cell_type": "code",
   "execution_count": 22,
   "id": "a09b8b67",
   "metadata": {},
   "outputs": [
    {
     "name": "stdout",
     "output_type": "stream",
     "text": [
      "C:\\Users\\gtsueng\\Anaconda3\\envs\\outbreak\\DDE-CrossWalks\n"
     ]
    }
   ],
   "source": [
    "import os\n",
    "import json\n",
    "import pandas as pd\n",
    "import requests\n",
    "from datetime import datetime\n",
    "import openpyxl\n",
    "from io import BytesIO as BytesIO\n",
    "\n",
    "nb_path = os.getcwd()\n",
    "parent_path = os.path.dirname(nb_path)\n",
    "tempfiles = os.path.join(parent_path,'tempfiles')\n",
    "print(parent_path)"
   ]
  },
  {
   "cell_type": "code",
   "execution_count": 4,
   "id": "0a4e354a",
   "metadata": {},
   "outputs": [],
   "source": [
    "#### Handle spreadsheets from google\n",
    "def parse_g_sheet_url(gsheeturl):\n",
    "    baseurl = 'https://docs.google.com/spreadsheets/d/'\n",
    "    tmpurl = gsheeturl.replace(baseurl,'')\n",
    "    tmpurlcontent = tmpurl.split('/')\n",
    "    spreadsheetId = tmpurlcontent[0]\n",
    "    return spreadsheetId\n",
    "\n",
    "def load_g_cred(parent_path):\n",
    "    from pydrive2.auth import GoogleAuth\n",
    "    from pydrive2.drive import GoogleDrive\n",
    "    from pydrive2.auth import ServiceAccountCredentials\n",
    "    gauth = GoogleAuth()\n",
    "    scope = ['https://www.googleapis.com/auth/drive']\n",
    "    gauth.credentials = ServiceAccountCredentials.from_json_keyfile_name(os.path.join(parent_path,'credentials.json'), scope)\n",
    "    return gauth\n",
    "\n",
    "def load_g_sheet_data(parent_path, gsheeturl):\n",
    "    gauth = load_g_cred(parent_path)\n",
    "    spreadsheetID = parse_g_sheet_url(gsheeturl)\n",
    "    url = f\"https://docs.google.com/spreadsheets/export?id={spreadsheetID}&exportFormat=xlsx\"\n",
    "    res = requests.get(url, headers={\"Authorization\": \"Bearer \" + str(gauth.attr['credentials'].access_token)})\n",
    "    data_file = res.content\n",
    "    return data_file\n",
    "\n",
    "#### Handle spreadsheets saved in GitHub\n",
    "def load_github_data(githuburl):\n",
    "    url = f\"{githuburl}?raw=true\"\n",
    "    res = requests.get(url)\n",
    "    data_file = res.content\n",
    "    return data_file\n",
    "\n",
    "#### Handle spreadsheets saved elsewhere\n",
    "def load_xls_data(otherurl):\n",
    "    res = requests.get(url)\n",
    "    data_file = res.content\n",
    "    return data_File\n",
    "\n",
    "#### Pull basic metadata from spreadsheet\n",
    "def get_xwalk_meta(parent_path, inputurl):\n",
    "    if 'github' in inputurl:\n",
    "        data_file = load_github_data(inputurl)\n",
    "        xwalk_dict = {'url':inputurl, 'urlType':'GitHub'}\n",
    "    elif 'google' in inputurl:\n",
    "        data_file = load_g_sheet_data(parent_path, inputurl)\n",
    "        xwalk_dict = {'url':inputurl, 'urlType':'Gsheet'}\n",
    "    else:\n",
    "        try:\n",
    "            data_file = load_xls_data(otherurl)\n",
    "        except:\n",
    "            data_file = None\n",
    "        xwalk_dict = {'url':inputurl, 'urlType':'Other'}\n",
    "    data_stream = BytesIO(data_file)\n",
    "    values = pd.read_excel(data_stream,sheet_name='metainfo',header=0,index_col=None,engine=\"openpyxl\")\n",
    "    fileid = values['value'].loc[values['property']=='identifier']\n",
    "    version = values['value'].loc[values['property']=='dateModified']\n",
    "    xwalk_dict['identifier'] = fileid\n",
    "    xwalk_dict['version'] = version\n",
    "    return xwalk_dict, data_file\n",
    "\n",
    "\n",
    "def download_spreadsheet(parent_path,url):\n",
    "    if 'xlsx' in url:\n",
    "        extension = '.xlsx'\n",
    "    elif 'google' in url:\n",
    "        extension = '.xlsx'\n",
    "    else:\n",
    "        extension = '.xls'\n",
    "    xwalk_dict, data_file = get_xwalk_meta(parent_path, url)\n",
    "    identifier = xwalk_dict['identifier']\n",
    "    if data_file != None:\n",
    "        with open(os.path.join(parent_path,'crosswalks',f\"{identifier}{extension}\"), 'wb') as output:\n",
    "            output.write(data_file)\n",
    "    else:\n",
    "        print('unable to parse data from provided url')"
   ]
  },
  {
   "cell_type": "code",
   "execution_count": 43,
   "id": "c068157b",
   "metadata": {},
   "outputs": [],
   "source": [
    "def get_json_version(data_file):\n",
    "    tmpjson = json.load(open(os.path.join(parent_path,'jsoncrosswalks',data_file),'rb'))\n",
    "    dateModified = tmpjson['dateModified']\n",
    "    dateModified = tmpjson['dateModified']\n",
    "    jsonversion = datetime.strptime(dateModified,\"%Y-%m-%d\")\n",
    "    return jsonversion  \n",
    "\n",
    "def get_xls_version(data_file):\n",
    "    try:\n",
    "        xwalkmeta = pd.read_excel(data_file,sheet_name='metainfo',header=0,index_col=0)\n",
    "    except:\n",
    "        xwalkmeta = pd.read_excel(data_file,sheet_name='metainfo',header=0,index_col=0,engine=\"openpyxl\")\n",
    "    xwalkdict = xwalkmeta.to_dict()\n",
    "    xls_version = xwalkdict['value']['dateModified']\n",
    "    return xls_version\n",
    "\n",
    "def compare_versions(version1,version2):\n",
    "    if version1 > version2:\n",
    "        newer = version1\n",
    "    else: #otherwise version 2 is either newer or the same, so just keep it\n",
    "        newer = version2\n",
    "    return newer"
   ]
  },
  {
   "cell_type": "code",
   "execution_count": 5,
   "id": "a10e5990",
   "metadata": {},
   "outputs": [],
   "source": [
    "#### Check if the json_crosswalks folder is up-to-date\n",
    "def check_crosswalks_conversion(parent_path):\n",
    "    crosswalks_path = os.path.join(parent_path,'crosswalks')\n",
    "    json_crosswalks_path = os.path.join(parent_path,'jsoncrosswalks')\n",
    "    saved_crosswalks_list = os.listdir(crosswalks_path)\n",
    "    json_crosswalks_list = os.listdir(json_crosswalks_path)\n",
    "    ## For each item in crosswalks df\n",
    "    for eachfile in saved_crosswalks_list:\n",
    "        filename = eachfile.replace('.xls','.json').replace('.xlsx','.json')\n",
    "     ### Check if the file already exists\n",
    "        if filename in json_crosswalks_list:\n",
    "            jsonversion = get_json_version(os.path.join(parent_path,'jsoncrosswalks',filename))\n",
    "            xlsversion = get_xls_version(os.path.join(parent_path,'crosswalks',eachfile))\n",
    "            ### If it does, check if the version is up-to-date\n",
    "            if jsonversion < xlsversion:\n",
    "                ### If the jsonversion is older than the xls version, run the conversion\n",
    "                convert_a_crosswalk(crosswalks_path,eachfile,json_crosswalks_path)\n",
    "        ### If it doesn't exist, run the conversion             \n",
    "        else:\n",
    "            convert_a_crosswalk(crosswalks_path,eachfile,json_crosswalks_path) \n",
    "            \n",
    "\n",
    "#### Check if items in crosswalks list are in the crosswalks folder\n",
    "def check_crosswalks_list(parent_path):\n",
    "    try:\n",
    "        crosswalksdf = pd.read_csv(os.path.join(parent_path,'crosswalkslist.txt'),delimiter='\\t',header=0, parse_dates=['version'])\n",
    "    except:\n",
    "        crosswalksdf = pd.read_csv(os.path.join(parent_path,'crosswalkslist.txt'),delimiter='\\t',header=0)\n",
    "    crosswalks_path = os.path.join(parent_path,'crosswalks')\n",
    "    saved_crosswalks_list = os.listdir(crosswalks_path)\n",
    "    ## For each item in crosswalks df\n",
    "    crosswalk_list = crosswalksdf['identifier'].tolist()\n",
    "    for eachcrosswalk in crosswalk_list:\n",
    "        tmp = crosswalksdf.loc[crosswalksdf['identifier']==identifier]\n",
    "        txtversion = tmp.iloc[0]['version']\n",
    "        txturl = tmp.iloc[0]['url']\n",
    "        ### Check if the file already exists\n",
    "        if (f\"{identifier}.xls\" in saved_crosswalks_list) or (f\"{identifier}.xlsx\" in saved_crosswalks_list):\n",
    "            ### If it does, check if the version is up-to-date\n",
    "            try:\n",
    "                xlsversion = get_xls_version(os.path.join(parent_path,'crosswalks',f\"{identifier}.xls\"))\n",
    "            except:\n",
    "                xlsversion = get_xls_version(os.path.join(parent_path,'crosswalks',f\"{identifier}.xlsx\"))                \n",
    "            newer = compare_versions(txtversion,xlsversion)\n",
    "            ## if the one listed in the textfile is newer, download it\n",
    "            if newer == txtversion:\n",
    "                download_spreadsheet(parent_path,txturl)\n",
    "        else:\n",
    "            ### If it doesn't exist or is not up-to-date, download it\n",
    "            download_spreadsheet(parent_path,txturl)"
   ]
  },
  {
   "cell_type": "code",
   "execution_count": 44,
   "id": "45e90299",
   "metadata": {},
   "outputs": [
    {
     "name": "stdout",
     "output_type": "stream",
     "text": [
      "2022-09-28 00:00:00\n",
      "2022-09-28 00:00:00\n"
     ]
    }
   ],
   "source": [
    "#### Given a url, check if it already exists in the crosswalks list or not:\n",
    "  ## If it already exists, check the date (version)\n",
    "    ### If it's newer, update the list and download it\n",
    "  ## If it does not exist,\n",
    "    ### Add it to the list and download it\n"
   ]
  },
  {
   "cell_type": "code",
   "execution_count": 3,
   "id": "013a1fac",
   "metadata": {},
   "outputs": [],
   "source": []
  },
  {
   "cell_type": "code",
   "execution_count": null,
   "id": "4d35cfb6",
   "metadata": {},
   "outputs": [],
   "source": []
  },
  {
   "cell_type": "code",
   "execution_count": 4,
   "id": "5bd59feb",
   "metadata": {},
   "outputs": [
    {
     "name": "stdout",
     "output_type": "stream",
     "text": [
      "nde_xref_bioconductor_ComputationalTools\n",
      "2022-08-14 00:00:00\n"
     ]
    }
   ],
   "source": [
    "inputurl = 'https://docs.google.com/spreadsheets/d/16kokDEZPDv_i4PFkbZGhrUHNhvRwv0M8Z6HNtZoqjbI/edit#gid=0'\n",
    "#inputurl = 'https://docs.google.com/spreadsheets/d/16kokDEZPDv_i4PFkbZGhrUHNhvRwv0M8Z6HNtZoqjbI/edit?usp=sharing'\n",
    "data_file = load_g_sheet_data(parent_path, inputurl)\n",
    "values = pd.read_excel(BytesIO(data_file),sheet_name='metainfo',header=0,index_col=None,engine=\"openpyxl\")\n",
    "fileid = values['value'].loc[values['property']=='identifier']\n",
    "version = values['value'].loc[values['property']=='dateModified']\n",
    "print(fileid.iloc[0])\n",
    "print(version.iloc[0])\n"
   ]
  },
  {
   "cell_type": "code",
   "execution_count": null,
   "id": "abbefcdd",
   "metadata": {},
   "outputs": [],
   "source": [
    "## Save xlsx template file from a GitHub repository"
   ]
  },
  {
   "cell_type": "code",
   "execution_count": null,
   "id": "e5709558",
   "metadata": {},
   "outputs": [],
   "source": [
    "## Save xlsx template file given a publicly viewable google spreadsheet link"
   ]
  },
  {
   "cell_type": "code",
   "execution_count": 2,
   "id": "a16065af",
   "metadata": {},
   "outputs": [
    {
     "name": "stdout",
     "output_type": "stream",
     "text": [
      "                              identifer  \\\n",
      "0  nde_xref_biotools_ComputationalTools   \n",
      "\n",
      "                                                 url urlType    version  \n",
      "0  https://github.com/gtsueng/DDE-CrossWalks/blob...  GitHub  9/28/2022  \n"
     ]
    }
   ],
   "source": [
    "crosswalkstable = pd.read_csv(os.path.join(parent_path,'crosswalkslist.txt'),delimiter='\\t',header=0)\n",
    "print(crosswalkstable)"
   ]
  },
  {
   "cell_type": "code",
   "execution_count": 17,
   "id": "3c1cc798",
   "metadata": {},
   "outputs": [],
   "source": [
    " "
   ]
  },
  {
   "cell_type": "code",
   "execution_count": 7,
   "id": "2bd17599",
   "metadata": {},
   "outputs": [
    {
     "name": "stdout",
     "output_type": "stream",
     "text": [
      "https://github.com/gtsueng/DDE-CrossWalks/blob/main/crosswalks/nde_biotools_computationaltool.xls\n"
     ]
    }
   ],
   "source": [
    "githuburl = crosswalkstable.iloc[0]['GitHubUrl']\n",
    "print(url)\n",
    "\n",
    "\n",
    "data_file = load_github_data(parent_path,githuburl)\n"
   ]
  },
  {
   "cell_type": "code",
   "execution_count": 30,
   "id": "a2218a03",
   "metadata": {},
   "outputs": [],
   "source": [
    "   \n",
    "    \n",
    "        "
   ]
  },
  {
   "cell_type": "code",
   "execution_count": 31,
   "id": "9f67110b",
   "metadata": {},
   "outputs": [],
   "source": [
    "identifier = 'test'\n",
    "url = 'https://docs.google.com/spreadsheets/d/16kokDEZPDv_i4PFkbZGhrUHNhvRwv0M8Z6HNtZoqjbI/edit#gid=0'\n",
    "\n",
    "download_spreadsheet(parent_path,url,identifier)"
   ]
  },
  {
   "cell_type": "code",
   "execution_count": 6,
   "id": "7a24669c",
   "metadata": {},
   "outputs": [
    {
     "ename": "NameError",
     "evalue": "name 'url' is not defined",
     "output_type": "error",
     "traceback": [
      "\u001b[1;31m---------------------------------------------------------------------------\u001b[0m",
      "\u001b[1;31mNameError\u001b[0m                                 Traceback (most recent call last)",
      "\u001b[1;32m~\\AppData\\Local\\Temp/ipykernel_7432/1606454981.py\u001b[0m in \u001b[0;36m<module>\u001b[1;34m\u001b[0m\n\u001b[0;32m      2\u001b[0m \u001b[1;33m\u001b[0m\u001b[0m\n\u001b[0;32m      3\u001b[0m \u001b[1;34m'https://github.com/gtsueng/DDE-CrossWalks/raw/main/crosswalks/nde_biotools_computationaltool.xls'\u001b[0m\u001b[1;33m\u001b[0m\u001b[1;33m\u001b[0m\u001b[0m\n\u001b[1;32m----> 4\u001b[1;33m \u001b[0mprint\u001b[0m\u001b[1;33m(\u001b[0m\u001b[0murl\u001b[0m\u001b[1;33m)\u001b[0m\u001b[1;33m\u001b[0m\u001b[1;33m\u001b[0m\u001b[0m\n\u001b[0m",
      "\u001b[1;31mNameError\u001b[0m: name 'url' is not defined"
     ]
    }
   ],
   "source": [
    "### Convert GitHub url\n",
    "\n",
    "'https://github.com/gtsueng/DDE-CrossWalks/raw/main/crosswalks/nde_biotools_computationaltool.xls'\n",
    "'https://github.com/gtsueng/DDE-CrossWalks/blob/mygene/crosswalks/nde_biotools_computationaltool.xls?raw=true'"
   ]
  },
  {
   "cell_type": "code",
   "execution_count": null,
   "id": "761c5e42",
   "metadata": {},
   "outputs": [],
   "source": []
  }
 ],
 "metadata": {
  "kernelspec": {
   "display_name": "Python 3 (ipykernel)",
   "language": "python",
   "name": "python3"
  },
  "language_info": {
   "codemirror_mode": {
    "name": "ipython",
    "version": 3
   },
   "file_extension": ".py",
   "mimetype": "text/x-python",
   "name": "python",
   "nbconvert_exporter": "python",
   "pygments_lexer": "ipython3",
   "version": "3.8.5"
  }
 },
 "nbformat": 4,
 "nbformat_minor": 5
}

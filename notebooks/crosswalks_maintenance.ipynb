{
 "cells": [
  {
   "cell_type": "markdown",
   "id": "4826db54",
   "metadata": {},
   "source": [
    "## Automate the mapping maintenance\n",
    "\n",
    "* Check for new GitHub issues to update the list\n",
    "* Update the repo to download new files from the list\n",
    "* Update conversion of crosswalks to json (requires functions from from src.xls_to_json)\n",
    "\n",
    "\n"
   ]
  },
  {
   "cell_type": "code",
   "execution_count": 1,
   "id": "e73a6893",
   "metadata": {},
   "outputs": [],
   "source": [
    "import os\n",
    "import json\n",
    "import pandas as pd\n",
    "import requests\n",
    "from datetime import datetime\n",
    "import openpyxl\n",
    "from io import BytesIO as BytesIO\n",
    "from src.download_xwalk import *\n",
    "from src.xls_to_json import *\n",
    "\n",
    "#nb_path = os.getcwd()\n",
    "#parent_path = os.path.dirname(nb_path)\n",
    "parent_path = os.getcwd()\n"
   ]
  },
  {
   "cell_type": "code",
   "execution_count": 2,
   "id": "ffeec09e",
   "metadata": {},
   "outputs": [
    {
     "name": "stdout",
     "output_type": "stream",
     "text": [
      "issue version is older\n",
      "Done with Repository: gtsueng/DDE-CrossWalks\n"
     ]
    }
   ],
   "source": [
    "#### Check for new GitHub issues to update the list\n",
    "REPO = ['gtsueng/DDE-CrossWalks']  # format is username/repo\n",
    "#github_token: ${{ secrets.GITHUB_TOKEN }}\n",
    "github_info = json.load(open(os.path.join(parent_path,'github_credentials.json'),'rb'))\n",
    "PERSONAL_TOKEN = github_info['PERSONAL_TOKEN']\n",
    "\n",
    "test = False\n",
    "check_repo(REPO, PERSONAL_TOKEN,parent_path,test)"
   ]
  },
  {
   "cell_type": "code",
   "execution_count": 3,
   "id": "ae709721",
   "metadata": {},
   "outputs": [],
   "source": [
    "#### Update the repo to download new files from the list\n",
    "check_crosswalks_list(parent_path)"
   ]
  },
  {
   "cell_type": "code",
   "execution_count": 4,
   "id": "40befb3d",
   "metadata": {},
   "outputs": [],
   "source": [
    "#### Update conversion of crosswalks to json (requires functions from from src.xls_to_json)\n",
    "check_crosswalks_conversion(parent_path)"
   ]
  },
  {
   "cell_type": "code",
   "execution_count": null,
   "id": "0db4fdd4",
   "metadata": {},
   "outputs": [],
   "source": []
  }
 ],
 "metadata": {
  "kernelspec": {
   "display_name": "Python 3 (ipykernel)",
   "language": "python",
   "name": "python3"
  },
  "language_info": {
   "codemirror_mode": {
    "name": "ipython",
    "version": 3
   },
   "file_extension": ".py",
   "mimetype": "text/x-python",
   "name": "python",
   "nbconvert_exporter": "python",
   "pygments_lexer": "ipython3",
   "version": "3.8.5"
  }
 },
 "nbformat": 4,
 "nbformat_minor": 5
}

{
 "cells": [
  {
   "cell_type": "code",
   "execution_count": 44,
   "id": "310ee843",
   "metadata": {},
   "outputs": [],
   "source": [
    "import json\n",
    "import os\n",
    "import pandas as pd\n",
    "import requests"
   ]
  },
  {
   "cell_type": "code",
   "execution_count": 24,
   "id": "3a7cb2dd",
   "metadata": {},
   "outputs": [],
   "source": [
    "r = requests.get('https://raw.githubusercontent.com/BioSchemas/bioschemas.github.io/master/_data/live_deployments.json')\n",
    "\n",
    "bioschemas_deploys = json.loads(r.text)"
   ]
  },
  {
   "cell_type": "code",
   "execution_count": 27,
   "id": "45d2982d",
   "metadata": {},
   "outputs": [
    {
     "name": "stdout",
     "output_type": "stream",
     "text": [
      "                  profile  profile counts\n",
      "0           BioChemEntity               1\n",
      "1               BioSample               2\n",
      "2       ChemicalSubstance               2\n",
      "3       ComputationalTool               8\n",
      "4   ComputationalWorkflow               1\n",
      "5                  Course               3\n",
      "6          CourseInstance               3\n",
      "7             DataCatalog              36\n",
      "8              DataRecord               1\n",
      "9                 Dataset              49\n",
      "10                Disease               1\n",
      "11                  Event               6\n",
      "12        FormalParameter               2\n",
      "13                   Gene               7\n",
      "14        MolecularEntity               6\n",
      "15           Organization               1\n",
      "16                 Person               3\n",
      "17                Protein               9\n",
      "18      ProteinAnnotation               2\n",
      "19       ProteinStructure               2\n",
      "20                 Sample               1\n",
      "21       ScholarlyArticle               2\n",
      "22     SequenceAnnotation               3\n",
      "23          SequenceRange               3\n",
      "24                  Study               2\n",
      "25                  Taxon               7\n",
      "26              TaxonName               2\n",
      "27       TrainingMaterial               7\n"
     ]
    }
   ],
   "source": [
    "resource_types = []\n",
    "for eachresource in bioschemas_deploys['resources']:\n",
    "    for eachprofile in eachresource['profiles']:\n",
    "        resource_dict = {'name':eachresource['name'],'url':eachresource['url'],'profile':eachprofile['profileName']}\n",
    "        try:\n",
    "            resource_dict['sitemap']=eachresource['sitemap'],\n",
    "        except:\n",
    "            resource_dict['sitemap']=None\n",
    "        resource_types.append(resource_dict)\n",
    "\n",
    "resource_df = pd.DataFrame(resource_types)\n",
    "frequency_df = resource_df.groupby('profile').size().reset_index(name='profile counts')\n",
    "print(frequency_df)"
   ]
  },
  {
   "cell_type": "code",
   "execution_count": 51,
   "id": "d423fb00",
   "metadata": {},
   "outputs": [],
   "source": [
    "gene_related = ['Gene','Protein','ProteinAnnotation','ProteinStructure','SequenceAnnotation','SequenceRange']\n",
    "disease_related = ['Disease']\n",
    "sample_related = ['BioSample','Sample']\n",
    "dataset_related = ['DataCatalog','DataRecord','Dataset']\n",
    "agent_related = ['Person','Organization']\n",
    "tool_related = ['ComputationalTool','ComputationalWorkflow']\n",
    "chem_related = ['ChemicalSubstance','MolecularEntity']\n",
    "training_related = ['TrainingMaterial','Course','CourseInstance','Event']\n",
    "study_related = ['Study']\n",
    "\n",
    "dataset_resource = resource_df.loc[resource_df['profile'].isin(dataset_related)].copy()\n",
    "dataset_resource['potential value'] = \"niaid,rdp,outbreak\"\n",
    "dataset_resource['profile grouping'] = 'dataset'\n",
    "tool_resource = resource_df.loc[resource_df['profile'].isin(tool_related)].copy()\n",
    "tool_resource['potential value'] = \"niaid,rdp,outbreak\"\n",
    "tool_resource['profile grouping'] = 'tool'\n",
    "\n",
    "training_resource = resource_df.loc[resource_df['profile'].isin(training_related)].copy()\n",
    "training_resource['potential value'] = 'rdp,outbreak'\n",
    "training_resource['profile grouping'] = 'training'\n",
    "study_resource = resource_df.loc[resource_df['profile'].isin(study_related)].copy()\n",
    "study_resource['potential value'] = 'niaid,rdp,outbreak'\n",
    "study_resource['profile grouping'] = 'study'\n",
    "agent_resource = resource_df.loc[resource_df['profile'].isin(agent_related)].copy()\n",
    "agent_resource['potential value'] = 'rdp'\n",
    "agent_resource['profile grouping'] = 'agent'\n",
    "\n",
    "\n",
    "chem_resource = resource_df.loc[resource_df['profile'].isin(chem_related)].copy()\n",
    "chem_resource['potential value'] = 'mychem,biothings,translator'\n",
    "chem_resource['profile grouping'] = 'chemical'\n",
    "gene_resource = resource_df.loc[resource_df['profile'].isin(gene_related)].copy()\n",
    "gene_resource['potential value'] = 'mygene,biothings,translator'\n",
    "gene_resource['profile grouping'] = 'gene'\n",
    "disease_resource = resource_df.loc[resource_df['profile'].isin(disease_related)].copy()\n",
    "disease_resource['potential value'] = 'mydisease,biothings,translator'\n",
    "disease_resource['profile grouping'] = 'disease'\n",
    "sample_resource = resource_df.loc[resource_df['profile'].isin(sample_related)].copy()\n",
    "sample_resource['potential value'] = 'biothings,translator'\n",
    "sample_resource['profile grouping'] = 'sample'"
   ]
  },
  {
   "cell_type": "code",
   "execution_count": 53,
   "id": "ea7664b4",
   "metadata": {},
   "outputs": [],
   "source": [
    "export_df = pd.concat((dataset_resource,tool_resource,training_resource,agent_resource,\n",
    "                       study_resource,chem_resource,gene_resource,disease_resource,\n",
    "                       sample_resource),ignore_index=True)\n",
    "\n",
    "export_df.to_csv('bioschemas_deploys.tsv',sep='\\t',header=True)"
   ]
  },
  {
   "cell_type": "code",
   "execution_count": null,
   "id": "a94ce3e8",
   "metadata": {},
   "outputs": [],
   "source": []
  }
 ],
 "metadata": {
  "kernelspec": {
   "display_name": "Python 3 (ipykernel)",
   "language": "python",
   "name": "python3"
  },
  "language_info": {
   "codemirror_mode": {
    "name": "ipython",
    "version": 3
   },
   "file_extension": ".py",
   "mimetype": "text/x-python",
   "name": "python",
   "nbconvert_exporter": "python",
   "pygments_lexer": "ipython3",
   "version": "3.8.5"
  }
 },
 "nbformat": 4,
 "nbformat_minor": 5
}
